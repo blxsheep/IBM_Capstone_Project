{
 "cells": [
  {
   "cell_type": "markdown",
   "id": "6343d166",
   "metadata": {},
   "source": [
    "<h3> Introduction and Bussiness Problem </h3>\n"
   ]
  },
  {
   "cell_type": "markdown",
   "id": "ca1ed358",
   "metadata": {},
   "source": [
    "<p style=\"font-size:14px\"><b> Problem : </b>Which bussiness you recommend to do in Toronto neighborhood and why it will profitable?<br>\n",
    "and What  is target customer group ?\n",
    "</p>"
   ]
  },
  {
   "cell_type": "markdown",
   "id": "393aa8a6",
   "metadata": {},
   "source": [
    "<h4>Which data do you need to solve the problem ?</h4> "
   ]
  },
  {
   "cell_type": "markdown",
   "id": "55fecb92",
   "metadata": {},
   "source": [
    "<p style=\"font-size:14px\"> We need data set that contain category of venues in Toronto as much as possible.<br>  </p>\n"
   ]
  },
  {
   "cell_type": "markdown",
   "id": "4e287529",
   "metadata": {},
   "source": [
    "<h4> Where is the data sources ? </h4>"
   ]
  },
  {
   "cell_type": "markdown",
   "id": "4e76fad6",
   "metadata": {},
   "source": [
    "<p style=\"font-size:14px\">\n",
    "- Post code , neighborhood of each borough from wikipedia in order to specified which neighborhood is in Toronto Neighborhood.<br>\n",
    "- FoursquareAPI in order to get venues in each neighborhood.\n",
    "</p>"
   ]
  },
  {
   "cell_type": "markdown",
   "id": "4f4ba5f4",
   "metadata": {},
   "source": [
    "<h4> Which format of data set we need  ? </h4>"
   ]
  },
  {
   "cell_type": "markdown",
   "id": "5ba60433",
   "metadata": {},
   "source": [
    "<p style=\"font-size:14px\"> Rows of each neighborhood in Toronto  and the columns of Top 10 most common venues in each neighborhood(rows)</p>"
   ]
  },
  {
   "cell_type": "markdown",
   "id": "ae8d9b5b",
   "metadata": {},
   "source": [
    "<h4>How data will use for solve the problem ? </h4>"
   ]
  },
  {
   "cell_type": "markdown",
   "id": "cddcd039",
   "metadata": {},
   "source": [
    "<p style=\"font-size:14px\"> \n",
    "Once we know cluster of other venues we will find inside of the data that why in that cluster has that most common venues .<br>\n",
    "when we know the reason we can use that reason to find out which bussiness will be profitable according to that reason we found."
   ]
  },
  {
   "cell_type": "code",
   "execution_count": null,
   "id": "fbcbdbc5",
   "metadata": {},
   "outputs": [],
   "source": []
  }
 ],
 "metadata": {
  "kernelspec": {
   "display_name": "Python 3",
   "language": "python",
   "name": "python3"
  },
  "language_info": {
   "codemirror_mode": {
    "name": "ipython",
    "version": 3
   },
   "file_extension": ".py",
   "mimetype": "text/x-python",
   "name": "python",
   "nbconvert_exporter": "python",
   "pygments_lexer": "ipython3",
   "version": "3.8.8"
  }
 },
 "nbformat": 4,
 "nbformat_minor": 5
}

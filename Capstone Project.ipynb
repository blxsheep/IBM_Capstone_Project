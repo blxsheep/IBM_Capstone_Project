{
 "cells": [
  {
   "cell_type": "markdown",
   "id": "98f7c291",
   "metadata": {},
   "source": [
    "<h1> IBM Data Science Capstone Project</h1>\n",
    "<h5> Author : Voranipit </h5>\n",
    "This notebook  will mainly use for IBM course assignment"
   ]
  },
  {
   "cell_type": "markdown",
   "id": "7d16f54b",
   "metadata": {},
   "source": [
    "<h3> Introduction and Bussiness Problem </h3>"
   ]
  },
  {
   "cell_type": "markdown",
   "id": "5596e620",
   "metadata": {},
   "source": [
    "   <b>Problem </b> : <br>           Which bussiness will be recommended to run in Toronto neighborhood ,why it will profitable?<br>\n",
    ",What is target customer group ? and how to do it efficienctly? <br>\n",
    "\n",
    "<b>Which data do you need to solve the problem ?<br></b>\n",
    "We need data set that contain category of venues in Toronto as much as possible.<br>\n",
    "\n",
    "<b>Where is the data sources ?<br></b>\n",
    "- Post code , neighborhood of each borough from wikipedia in order to specified which neighborhood is in Toronto Neighborhood.<br>\n",
    "- FoursquareAPI in order to get venues in each neighborhood.<br>\n",
    "\n",
    "\n",
    "\n",
    "<b>Which format of data set we need ?<br></b>\n",
    "Rows of each neighborhood in Toronto and the columns of Top 10 most common venues in each neighborhood(rows)<br>\n",
    "\n",
    "<b>How data will use for solve the problem ?<br></b>\n",
    "Once we know cluster of other venues we will find inside of the data that why in that cluster has that most common venues .<br>\n",
    "when we know the reason we can use that reason to find out which bussiness will be profitable.<br>"
   ]
  },
  {
   "cell_type": "code",
   "execution_count": null,
   "id": "fe3a64d1",
   "metadata": {},
   "outputs": [],
   "source": []
  },
  {
   "cell_type": "markdown",
   "id": "dec724a7",
   "metadata": {},
   "source": [
    "<h3> Data  Source</h3>"
   ]
  },
  {
   "cell_type": "code",
   "execution_count": 1,
   "id": "c032f75e",
   "metadata": {},
   "outputs": [],
   "source": [
    "import pandas as pd\n",
    "import numpy as np\n",
    "from jupyterthemes import jtplot\n",
    "jtplot.style(theme = 'monokai',ticks = True,grid = False ,context = 'notebook')"
   ]
  },
  {
   "cell_type": "markdown",
   "id": "bd01e50f",
   "metadata": {},
   "source": [
    "<h3> Model Clustering (K-mean) </h3>"
   ]
  },
  {
   "cell_type": "markdown",
   "id": "1639c30b",
   "metadata": {},
   "source": [
    "<h3> Identify clusters </h3>"
   ]
  },
  {
   "cell_type": "markdown",
   "id": "624a78dc",
   "metadata": {},
   "source": [
    "<h3> Seeking For oppotunity </h3>"
   ]
  },
  {
   "cell_type": "markdown",
   "id": "01adc227",
   "metadata": {},
   "source": [
    "<h3>How to use these oppotunity ? </h3>"
   ]
  },
  {
   "cell_type": "markdown",
   "id": "d03e9004",
   "metadata": {},
   "source": [
    "<h3> Conclusion and actionable recommendation.<h3> "
   ]
  },
  {
   "cell_type": "code",
   "execution_count": null,
   "id": "29f38ada",
   "metadata": {},
   "outputs": [],
   "source": []
  }
 ],
 "metadata": {
  "kernelspec": {
   "display_name": "Python 3",
   "language": "python",
   "name": "python3"
  },
  "language_info": {
   "codemirror_mode": {
    "name": "ipython",
    "version": 3
   },
   "file_extension": ".py",
   "mimetype": "text/x-python",
   "name": "python",
   "nbconvert_exporter": "python",
   "pygments_lexer": "ipython3",
   "version": "3.8.8"
  }
 },
 "nbformat": 4,
 "nbformat_minor": 5
}
